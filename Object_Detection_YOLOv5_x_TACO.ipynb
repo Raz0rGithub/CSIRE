{
  "cells": [
    {
      "cell_type": "markdown",
      "metadata": {
        "id": "view-in-github",
        "colab_type": "text"
      },
      "source": [
        "<a href=\"https://colab.research.google.com/github/Raz0rGithub/CSIRE/blob/main/Object_Detection_YOLOv5_x_TACO.ipynb\" target=\"_parent\"><img src=\"https://colab.research.google.com/assets/colab-badge.svg\" alt=\"Open In Colab\"/></a>"
      ]
    },
    {
      "cell_type": "markdown",
      "metadata": {
        "id": "7mGmQbAO5pQb"
      },
      "source": [
        "# Setup\n",
        "\n",
        "Clone repo, install dependencies and check PyTorch and GPU."
      ]
    },
    {
      "cell_type": "code",
      "execution_count": null,
      "metadata": {
        "id": "wbvMlHd_QwMG",
        "colab": {
          "base_uri": "https://localhost:8080/",
          "height": 272
        },
        "outputId": "5c7183b0-2bfe-4bbd-8a30-cdacca06e0b4"
      },
      "outputs": [
        {
          "output_type": "stream",
          "name": "stderr",
          "text": [
            "YOLOv5 🚀 v6.1-320-gb367860 Python-3.7.13 torch-1.12.0+cu113 CUDA:0 (Tesla T4, 15110MiB)\n"
          ]
        },
        {
          "output_type": "stream",
          "name": "stdout",
          "text": [
            "Setup complete ✅ (2 CPUs, 12.7 GB RAM, 39.3/78.2 GB disk)\n",
            "Roboflow Dataset downloaded.\n",
            "\u001b[K     |████████████████████████████████| 1.8 MB 15.6 MB/s \n",
            "\u001b[K     |████████████████████████████████| 153 kB 53.6 MB/s \n",
            "\u001b[K     |████████████████████████████████| 181 kB 50.5 MB/s \n",
            "\u001b[K     |████████████████████████████████| 63 kB 1.2 MB/s \n",
            "\u001b[?25h  Building wheel for pathtools (setup.py) ... \u001b[?25l\u001b[?25hdone\n"
          ]
        },
        {
          "output_type": "display_data",
          "data": {
            "text/plain": [
              "<IPython.core.display.Javascript object>"
            ],
            "application/javascript": [
              "\n",
              "        window._wandbApiKey = new Promise((resolve, reject) => {\n",
              "            function loadScript(url) {\n",
              "            return new Promise(function(resolve, reject) {\n",
              "                let newScript = document.createElement(\"script\");\n",
              "                newScript.onerror = reject;\n",
              "                newScript.onload = resolve;\n",
              "                document.body.appendChild(newScript);\n",
              "                newScript.src = url;\n",
              "            });\n",
              "            }\n",
              "            loadScript(\"https://cdn.jsdelivr.net/npm/postmate/build/postmate.min.js\").then(() => {\n",
              "            const iframe = document.createElement('iframe')\n",
              "            iframe.style.cssText = \"width:0;height:0;border:none\"\n",
              "            document.body.appendChild(iframe)\n",
              "            const handshake = new Postmate({\n",
              "                container: iframe,\n",
              "                url: 'https://wandb.ai/authorize'\n",
              "            });\n",
              "            const timeout = setTimeout(() => reject(\"Couldn't auto authenticate\"), 5000)\n",
              "            handshake.then(function(child) {\n",
              "                child.on('authorize', data => {\n",
              "                    clearTimeout(timeout)\n",
              "                    resolve(data)\n",
              "                });\n",
              "            });\n",
              "            })\n",
              "        });\n",
              "    "
            ]
          },
          "metadata": {}
        },
        {
          "output_type": "stream",
          "name": "stderr",
          "text": [
            "\u001b[34m\u001b[1mwandb\u001b[0m: Logging into wandb.ai. (Learn how to deploy a W&B server locally: https://wandb.me/wandb-server)\n",
            "\u001b[34m\u001b[1mwandb\u001b[0m: You can find your API key in your browser here: https://wandb.ai/authorize\n",
            "wandb: Paste an API key from your profile and hit enter, or press ctrl+c to quit: "
          ]
        },
        {
          "name": "stdout",
          "output_type": "stream",
          "text": [
            "··········\n"
          ]
        },
        {
          "output_type": "stream",
          "name": "stderr",
          "text": [
            "\u001b[34m\u001b[1mwandb\u001b[0m: Appending key for api.wandb.ai to your netrc file: /root/.netrc\n"
          ]
        },
        {
          "output_type": "stream",
          "name": "stdout",
          "text": [
            "WandB Initialized.\n",
            "Seeds set.\n"
          ]
        }
      ],
      "source": [
        "!git clone https://github.com/ultralytics/yolov5  # clone repo\n",
        "%cd yolov5\n",
        "%pip install -qr requirements.txt  # install dependencies\n",
        "\n",
        "import torch \n",
        "from yolov5 import utils\n",
        "import random\n",
        "import numpy as np\n",
        "\n",
        "#For Downloading Later\n",
        "!pip install google-colab\n",
        "from google.colab import files\n",
        "\n",
        "#Dataset\n",
        "!pip install roboflow\n",
        "\n",
        "from roboflow import Roboflow\n",
        "rf = Roboflow(api_key=\"jEGHD1GdGYr7GPZWg5nn\")\n",
        "project = rf.workspace(\"vcraz0r-gmail-com\").project(\"csire\")\n",
        "dataset = project.version(2).download(\"yolov5\") # VERSION 2 = 720P, VERSION 3 = 640P, VERSION 4 = 512P, VERSION 5 = 480P\n",
        "\n",
        "display = utils.notebook_init()\n",
        "print(\"Roboflow Dataset downloaded.\")\n",
        "\n",
        "# Weights & Biases\n",
        "%pip install -q wandb\n",
        "import wandb\n",
        "wandb.login()\n",
        "print(\"WandB Initialized.\")\n",
        "\n",
        "\n",
        "#Seeds\n",
        "SEED = 1234\n",
        "random.seed(SEED)\n",
        "np.random.seed(SEED)\n",
        "torch.manual_seed(SEED)\n",
        "torch.cuda.manual_seed(SEED)\n",
        "torch.backends.cudnn.deterministic = True\n",
        "\n",
        "print(\"Seeds set.\")"
      ]
    },
    {
      "cell_type": "code",
      "source": [
        "for k, v in model.named_parameters():\n",
        "    print(k)"
      ],
      "metadata": {
        "id": "-wRbEALaE_ko"
      },
      "execution_count": null,
      "outputs": []
    },
    {
      "cell_type": "markdown",
      "metadata": {
        "id": "VUOiNLtMP5aG"
      },
      "source": [
        "# Training\n",
        "\n",
        "Train a YOLOv5l model on the [TACO Trash Dataset](http://tacodataset.org/) with `--data /content/yolov5/c-4/data.yaml` using `--weights yolov5l.pt`\n",
        "\n",
        "Training results are saved to `runs/train/(exp1/exp2/...)`"
      ]
    },
    {
      "cell_type": "code",
      "execution_count": null,
      "metadata": {
        "id": "1NcFxRcFdJ_O"
      },
      "outputs": [],
      "source": [
        "!python /content/yolov5/train.py --img 720 --batch -1 --epochs 100 --data /content/yolov5/CSIRE-5/data.yaml --weights yolov5l.pt --patience 100 --bbox_interval 10 --save-period 10 --project ObjectDetection --name YOLOv5lVer1 #-1 for autobatch"
      ]
    },
    {
      "cell_type": "code",
      "execution_count": null,
      "metadata": {
        "id": "6Y8c4YKbgG6G"
      },
      "outputs": [],
      "source": [
        "!python /content/yolov5/val.py --data /content/yolov5/CSIRE-5/data.yaml --weights /content/yolov5/runs/train/exp/weights/best.pt"
      ]
    },
    {
      "cell_type": "markdown",
      "source": [
        "Download"
      ],
      "metadata": {
        "id": "35UU5NJtEifY"
      }
    },
    {
      "cell_type": "code",
      "source": [
        "!cd /content/yolov5/runs/train/exp/weights/\n",
        "\n",
        "!zip -r best.pt bestweight.zip"
      ],
      "metadata": {
        "id": "EBqO0yZHWPna"
      },
      "execution_count": null,
      "outputs": []
    },
    {
      "cell_type": "code",
      "source": [
        "files.download('/content/yolov5/runs/train/exp/weights/bestweight.zip')"
      ],
      "metadata": {
        "id": "QLQ4yaPxWBcl"
      },
      "execution_count": null,
      "outputs": []
    },
    {
      "cell_type": "markdown",
      "metadata": {
        "id": "4JnkELT0cIJg"
      },
      "source": [
        "#Inference\n",
        "\n",
        "`detect.py` runs the model on a variety of sources, and saves results to `runs/detect`. "
      ]
    },
    {
      "cell_type": "code",
      "execution_count": null,
      "metadata": {
        "id": "zR9ZbuQCH7FX"
      },
      "outputs": [],
      "source": [
        "%rm -rf runs\n",
        "#Run post-training\n",
        "!python detect.py --weights /content/yolov5/best.pt --img 6000 --conf 0.25 --source /content/yolov5/data/images --save-txt #SAVES TXT AS X,Y,Width,Height\n",
        "#Image(filename='runs/detect/exp/zidane.jpg', width=600)"
      ]
    },
    {
      "cell_type": "code",
      "source": [
        ""
      ],
      "metadata": {
        "id": "lV2kF3tePiCw"
      },
      "execution_count": null,
      "outputs": []
    }
  ],
  "metadata": {
    "colab": {
      "background_execution": "on",
      "collapsed_sections": [],
      "name": "Object Detection - YOLOv5 x TACO",
      "provenance": [],
      "include_colab_link": true
    },
    "kernelspec": {
      "display_name": "Python 3",
      "name": "python3"
    },
    "language_info": {
      "name": "python"
    },
    "accelerator": "GPU",
    "gpuClass": "standard"
  },
  "nbformat": 4,
  "nbformat_minor": 0
}